{
 "cells": [
  {
   "cell_type": "code",
   "execution_count": 1,
   "id": "df163a7a",
   "metadata": {},
   "outputs": [],
   "source": [
    "import numpy as np\n",
    "import pandas as pd\n",
    "import matplotlib.pyplot as plt\n",
    "import seaborn as sns"
   ]
  },
  {
   "cell_type": "code",
   "execution_count": 2,
   "id": "899281b9",
   "metadata": {},
   "outputs": [],
   "source": [
    "from sklearn.model_selection import train_test_split"
   ]
  },
  {
   "cell_type": "code",
   "execution_count": 3,
   "id": "7ea966e9",
   "metadata": {},
   "outputs": [],
   "source": [
    "flood_df = pd.read_csv('all_data.csv')"
   ]
  },
  {
   "cell_type": "code",
   "execution_count": 4,
   "id": "a5c20e01",
   "metadata": {},
   "outputs": [
    {
     "data": {
      "text/html": [
       "<div>\n",
       "<style scoped>\n",
       "    .dataframe tbody tr th:only-of-type {\n",
       "        vertical-align: middle;\n",
       "    }\n",
       "\n",
       "    .dataframe tbody tr th {\n",
       "        vertical-align: top;\n",
       "    }\n",
       "\n",
       "    .dataframe thead th {\n",
       "        text-align: right;\n",
       "    }\n",
       "</style>\n",
       "<table border=\"1\" class=\"dataframe\">\n",
       "  <thead>\n",
       "    <tr style=\"text-align: right;\">\n",
       "      <th></th>\n",
       "      <th>Unnamed: 0</th>\n",
       "      <th>Year</th>\n",
       "      <th>Disaster Subtype</th>\n",
       "      <th>Country</th>\n",
       "      <th>Continent</th>\n",
       "      <th>Location</th>\n",
       "      <th>River Basin</th>\n",
       "      <th>Start Year</th>\n",
       "      <th>Start Month</th>\n",
       "      <th>Start Day</th>\n",
       "      <th>End Year</th>\n",
       "      <th>End Month</th>\n",
       "      <th>End Day</th>\n",
       "      <th>Total Deaths</th>\n",
       "      <th>No Injured</th>\n",
       "      <th>No Affected</th>\n",
       "      <th>No Homeless</th>\n",
       "      <th>Total Affected</th>\n",
       "      <th>Start Date</th>\n",
       "      <th>End Date</th>\n",
       "    </tr>\n",
       "  </thead>\n",
       "  <tbody>\n",
       "    <tr>\n",
       "      <th>0</th>\n",
       "      <td>0</td>\n",
       "      <td>1927</td>\n",
       "      <td>Flash Flood</td>\n",
       "      <td>Algeria</td>\n",
       "      <td>Africa</td>\n",
       "      <td>Mostaganem</td>\n",
       "      <td>None</td>\n",
       "      <td>1927</td>\n",
       "      <td>11.0</td>\n",
       "      <td>1</td>\n",
       "      <td>1927</td>\n",
       "      <td>11.0</td>\n",
       "      <td>1</td>\n",
       "      <td>3000</td>\n",
       "      <td>12</td>\n",
       "      <td>45400</td>\n",
       "      <td>15900</td>\n",
       "      <td>45400</td>\n",
       "      <td>11/1/1927</td>\n",
       "      <td>11/1/1927</td>\n",
       "    </tr>\n",
       "    <tr>\n",
       "      <th>1</th>\n",
       "      <td>1</td>\n",
       "      <td>1952</td>\n",
       "      <td>Flash Flood</td>\n",
       "      <td>Algeria</td>\n",
       "      <td>Africa</td>\n",
       "      <td>Not Recorded</td>\n",
       "      <td>None</td>\n",
       "      <td>1952</td>\n",
       "      <td>9.0</td>\n",
       "      <td>2</td>\n",
       "      <td>1952</td>\n",
       "      <td>9.0</td>\n",
       "      <td>2</td>\n",
       "      <td>25</td>\n",
       "      <td>12</td>\n",
       "      <td>45400</td>\n",
       "      <td>15900</td>\n",
       "      <td>45400</td>\n",
       "      <td>9/2/1952</td>\n",
       "      <td>9/2/1952</td>\n",
       "    </tr>\n",
       "    <tr>\n",
       "      <th>2</th>\n",
       "      <td>2</td>\n",
       "      <td>1954</td>\n",
       "      <td>Riverine flood</td>\n",
       "      <td>Egypt</td>\n",
       "      <td>Africa</td>\n",
       "      <td>Not Recorded</td>\n",
       "      <td>None</td>\n",
       "      <td>1954</td>\n",
       "      <td>3.0</td>\n",
       "      <td>4</td>\n",
       "      <td>1954</td>\n",
       "      <td>3.0</td>\n",
       "      <td>4</td>\n",
       "      <td>36</td>\n",
       "      <td>12</td>\n",
       "      <td>45400</td>\n",
       "      <td>15900</td>\n",
       "      <td>45400</td>\n",
       "      <td>3/4/1954</td>\n",
       "      <td>3/4/1954</td>\n",
       "    </tr>\n",
       "    <tr>\n",
       "      <th>3</th>\n",
       "      <td>3</td>\n",
       "      <td>1963</td>\n",
       "      <td>Flash Flood</td>\n",
       "      <td>Algeria</td>\n",
       "      <td>Africa</td>\n",
       "      <td>Southern</td>\n",
       "      <td>None</td>\n",
       "      <td>1963</td>\n",
       "      <td>12.0</td>\n",
       "      <td>5</td>\n",
       "      <td>1963</td>\n",
       "      <td>12.0</td>\n",
       "      <td>5</td>\n",
       "      <td>46</td>\n",
       "      <td>12</td>\n",
       "      <td>45400</td>\n",
       "      <td>15900</td>\n",
       "      <td>45400</td>\n",
       "      <td>12/5/1963</td>\n",
       "      <td>12/5/1963</td>\n",
       "    </tr>\n",
       "    <tr>\n",
       "      <th>4</th>\n",
       "      <td>4</td>\n",
       "      <td>1966</td>\n",
       "      <td>Flash Flood</td>\n",
       "      <td>Algeria</td>\n",
       "      <td>Africa</td>\n",
       "      <td>West El-Asnam</td>\n",
       "      <td>None</td>\n",
       "      <td>1966</td>\n",
       "      <td>10.0</td>\n",
       "      <td>6</td>\n",
       "      <td>1966</td>\n",
       "      <td>10.0</td>\n",
       "      <td>6</td>\n",
       "      <td>57</td>\n",
       "      <td>12</td>\n",
       "      <td>20000</td>\n",
       "      <td>15900</td>\n",
       "      <td>35912</td>\n",
       "      <td>10/6/1966</td>\n",
       "      <td>10/6/1966</td>\n",
       "    </tr>\n",
       "  </tbody>\n",
       "</table>\n",
       "</div>"
      ],
      "text/plain": [
       "   Unnamed: 0  Year Disaster Subtype  Country Continent       Location  \\\n",
       "0           0  1927      Flash Flood  Algeria    Africa     Mostaganem   \n",
       "1           1  1952      Flash Flood  Algeria    Africa   Not Recorded   \n",
       "2           2  1954   Riverine flood    Egypt    Africa   Not Recorded   \n",
       "3           3  1963      Flash Flood  Algeria    Africa       Southern   \n",
       "4           4  1966      Flash Flood  Algeria    Africa  West El-Asnam   \n",
       "\n",
       "  River Basin  Start Year  Start Month  Start Day  End Year  End Month  \\\n",
       "0        None        1927         11.0          1      1927       11.0   \n",
       "1        None        1952          9.0          2      1952        9.0   \n",
       "2        None        1954          3.0          4      1954        3.0   \n",
       "3        None        1963         12.0          5      1963       12.0   \n",
       "4        None        1966         10.0          6      1966       10.0   \n",
       "\n",
       "   End Day  Total Deaths  No Injured  No Affected  No Homeless  \\\n",
       "0        1          3000          12        45400        15900   \n",
       "1        2            25          12        45400        15900   \n",
       "2        4            36          12        45400        15900   \n",
       "3        5            46          12        45400        15900   \n",
       "4        6            57          12        20000        15900   \n",
       "\n",
       "   Total Affected Start Date   End Date  \n",
       "0           45400  11/1/1927  11/1/1927  \n",
       "1           45400   9/2/1952   9/2/1952  \n",
       "2           45400   3/4/1954   3/4/1954  \n",
       "3           45400  12/5/1963  12/5/1963  \n",
       "4           35912  10/6/1966  10/6/1966  "
      ]
     },
     "execution_count": 4,
     "metadata": {},
     "output_type": "execute_result"
    }
   ],
   "source": [
    "flood_df.head()"
   ]
  },
  {
   "cell_type": "code",
   "execution_count": 5,
   "id": "dd02030f",
   "metadata": {},
   "outputs": [],
   "source": [
    "flood_df = flood_df.drop('Unnamed: 0', axis=1)"
   ]
  },
  {
   "cell_type": "code",
   "execution_count": 6,
   "id": "17f79c5c",
   "metadata": {},
   "outputs": [
    {
     "data": {
      "text/plain": [
       "Year                0\n",
       "Disaster Subtype    0\n",
       "Country             0\n",
       "Continent           0\n",
       "Location            0\n",
       "River Basin         0\n",
       "Start Year          0\n",
       "Start Month         0\n",
       "Start Day           0\n",
       "End Year            0\n",
       "End Month           0\n",
       "End Day             0\n",
       "Total Deaths        0\n",
       "No Injured          0\n",
       "No Affected         0\n",
       "No Homeless         0\n",
       "Total Affected      0\n",
       "Start Date          0\n",
       "End Date            0\n",
       "dtype: int64"
      ]
     },
     "execution_count": 6,
     "metadata": {},
     "output_type": "execute_result"
    }
   ],
   "source": [
    "flood_df.isna().sum()"
   ]
  },
  {
   "cell_type": "code",
   "execution_count": 7,
   "id": "3a5540a0",
   "metadata": {},
   "outputs": [
    {
     "data": {
      "text/plain": [
       "Year                  int64\n",
       "Disaster Subtype     object\n",
       "Country              object\n",
       "Continent            object\n",
       "Location             object\n",
       "River Basin          object\n",
       "Start Year            int64\n",
       "Start Month         float64\n",
       "Start Day             int64\n",
       "End Year              int64\n",
       "End Month           float64\n",
       "End Day               int64\n",
       "Total Deaths          int64\n",
       "No Injured            int64\n",
       "No Affected           int64\n",
       "No Homeless           int64\n",
       "Total Affected        int64\n",
       "Start Date           object\n",
       "End Date             object\n",
       "dtype: object"
      ]
     },
     "execution_count": 7,
     "metadata": {},
     "output_type": "execute_result"
    }
   ],
   "source": [
    "flood_df.dtypes"
   ]
  },
  {
   "cell_type": "code",
   "execution_count": 8,
   "id": "8fab5ec9",
   "metadata": {},
   "outputs": [],
   "source": [
    "flood_df['Start Date'] = pd.to_datetime(flood_df['Start Date'])\n",
    "flood_df['End Date'] = pd.to_datetime(flood_df['End Date'])"
   ]
  },
  {
   "cell_type": "code",
   "execution_count": 9,
   "id": "0572a047",
   "metadata": {},
   "outputs": [
    {
     "data": {
      "text/html": [
       "<div>\n",
       "<style scoped>\n",
       "    .dataframe tbody tr th:only-of-type {\n",
       "        vertical-align: middle;\n",
       "    }\n",
       "\n",
       "    .dataframe tbody tr th {\n",
       "        vertical-align: top;\n",
       "    }\n",
       "\n",
       "    .dataframe thead th {\n",
       "        text-align: right;\n",
       "    }\n",
       "</style>\n",
       "<table border=\"1\" class=\"dataframe\">\n",
       "  <thead>\n",
       "    <tr style=\"text-align: right;\">\n",
       "      <th></th>\n",
       "      <th>Year</th>\n",
       "      <th>Start Year</th>\n",
       "      <th>Start Month</th>\n",
       "      <th>Start Day</th>\n",
       "      <th>End Year</th>\n",
       "      <th>End Month</th>\n",
       "      <th>End Day</th>\n",
       "      <th>Total Deaths</th>\n",
       "      <th>No Injured</th>\n",
       "      <th>No Affected</th>\n",
       "      <th>No Homeless</th>\n",
       "      <th>Total Affected</th>\n",
       "    </tr>\n",
       "  </thead>\n",
       "  <tbody>\n",
       "    <tr>\n",
       "      <th>count</th>\n",
       "      <td>3383.000000</td>\n",
       "      <td>3383.000000</td>\n",
       "      <td>3383.000000</td>\n",
       "      <td>3383.000000</td>\n",
       "      <td>3383.000000</td>\n",
       "      <td>3383.000000</td>\n",
       "      <td>3383.000000</td>\n",
       "      <td>3383.000000</td>\n",
       "      <td>3383.000000</td>\n",
       "      <td>3.383000e+03</td>\n",
       "      <td>3383.000000</td>\n",
       "      <td>3.383000e+03</td>\n",
       "    </tr>\n",
       "    <tr>\n",
       "      <th>mean</th>\n",
       "      <td>2004.853680</td>\n",
       "      <td>2004.852793</td>\n",
       "      <td>6.603311</td>\n",
       "      <td>14.622820</td>\n",
       "      <td>2004.875850</td>\n",
       "      <td>6.735146</td>\n",
       "      <td>15.855158</td>\n",
       "      <td>38.013302</td>\n",
       "      <td>361.918416</td>\n",
       "      <td>1.015521e+05</td>\n",
       "      <td>25588.707360</td>\n",
       "      <td>9.197008e+04</td>\n",
       "    </tr>\n",
       "    <tr>\n",
       "      <th>std</th>\n",
       "      <td>12.255227</td>\n",
       "      <td>12.254601</td>\n",
       "      <td>3.301732</td>\n",
       "      <td>8.551834</td>\n",
       "      <td>12.264697</td>\n",
       "      <td>3.314381</td>\n",
       "      <td>8.493449</td>\n",
       "      <td>125.962784</td>\n",
       "      <td>1805.369994</td>\n",
       "      <td>3.230881e+05</td>\n",
       "      <td>71196.353002</td>\n",
       "      <td>3.256403e+05</td>\n",
       "    </tr>\n",
       "    <tr>\n",
       "      <th>min</th>\n",
       "      <td>1927.000000</td>\n",
       "      <td>1927.000000</td>\n",
       "      <td>1.000000</td>\n",
       "      <td>1.000000</td>\n",
       "      <td>1927.000000</td>\n",
       "      <td>1.000000</td>\n",
       "      <td>1.000000</td>\n",
       "      <td>1.000000</td>\n",
       "      <td>1.000000</td>\n",
       "      <td>7.000000e+01</td>\n",
       "      <td>50.000000</td>\n",
       "      <td>4.000000e+00</td>\n",
       "    </tr>\n",
       "    <tr>\n",
       "      <th>25%</th>\n",
       "      <td>2000.000000</td>\n",
       "      <td>2000.000000</td>\n",
       "      <td>4.000000</td>\n",
       "      <td>8.000000</td>\n",
       "      <td>2000.000000</td>\n",
       "      <td>4.000000</td>\n",
       "      <td>9.000000</td>\n",
       "      <td>6.000000</td>\n",
       "      <td>15.000000</td>\n",
       "      <td>5.000000e+03</td>\n",
       "      <td>1976.500000</td>\n",
       "      <td>3.000000e+03</td>\n",
       "    </tr>\n",
       "    <tr>\n",
       "      <th>50%</th>\n",
       "      <td>2007.000000</td>\n",
       "      <td>2007.000000</td>\n",
       "      <td>7.000000</td>\n",
       "      <td>15.000000</td>\n",
       "      <td>2007.000000</td>\n",
       "      <td>8.000000</td>\n",
       "      <td>16.000000</td>\n",
       "      <td>15.000000</td>\n",
       "      <td>35.000000</td>\n",
       "      <td>2.000000e+04</td>\n",
       "      <td>6293.000000</td>\n",
       "      <td>1.500000e+04</td>\n",
       "    </tr>\n",
       "    <tr>\n",
       "      <th>75%</th>\n",
       "      <td>2013.000000</td>\n",
       "      <td>2013.000000</td>\n",
       "      <td>9.000000</td>\n",
       "      <td>22.000000</td>\n",
       "      <td>2013.000000</td>\n",
       "      <td>9.000000</td>\n",
       "      <td>23.000000</td>\n",
       "      <td>34.000000</td>\n",
       "      <td>88.000000</td>\n",
       "      <td>8.200000e+04</td>\n",
       "      <td>18346.500000</td>\n",
       "      <td>6.000000e+04</td>\n",
       "    </tr>\n",
       "    <tr>\n",
       "      <th>max</th>\n",
       "      <td>2021.000000</td>\n",
       "      <td>2021.000000</td>\n",
       "      <td>12.000000</td>\n",
       "      <td>31.000000</td>\n",
       "      <td>2021.000000</td>\n",
       "      <td>12.000000</td>\n",
       "      <td>31.000000</td>\n",
       "      <td>3000.000000</td>\n",
       "      <td>18500.000000</td>\n",
       "      <td>7.000000e+06</td>\n",
       "      <td>1000000.000000</td>\n",
       "      <td>7.000867e+06</td>\n",
       "    </tr>\n",
       "  </tbody>\n",
       "</table>\n",
       "</div>"
      ],
      "text/plain": [
       "              Year   Start Year  Start Month    Start Day     End Year  \\\n",
       "count  3383.000000  3383.000000  3383.000000  3383.000000  3383.000000   \n",
       "mean   2004.853680  2004.852793     6.603311    14.622820  2004.875850   \n",
       "std      12.255227    12.254601     3.301732     8.551834    12.264697   \n",
       "min    1927.000000  1927.000000     1.000000     1.000000  1927.000000   \n",
       "25%    2000.000000  2000.000000     4.000000     8.000000  2000.000000   \n",
       "50%    2007.000000  2007.000000     7.000000    15.000000  2007.000000   \n",
       "75%    2013.000000  2013.000000     9.000000    22.000000  2013.000000   \n",
       "max    2021.000000  2021.000000    12.000000    31.000000  2021.000000   \n",
       "\n",
       "         End Month      End Day  Total Deaths    No Injured   No Affected  \\\n",
       "count  3383.000000  3383.000000   3383.000000   3383.000000  3.383000e+03   \n",
       "mean      6.735146    15.855158     38.013302    361.918416  1.015521e+05   \n",
       "std       3.314381     8.493449    125.962784   1805.369994  3.230881e+05   \n",
       "min       1.000000     1.000000      1.000000      1.000000  7.000000e+01   \n",
       "25%       4.000000     9.000000      6.000000     15.000000  5.000000e+03   \n",
       "50%       8.000000    16.000000     15.000000     35.000000  2.000000e+04   \n",
       "75%       9.000000    23.000000     34.000000     88.000000  8.200000e+04   \n",
       "max      12.000000    31.000000   3000.000000  18500.000000  7.000000e+06   \n",
       "\n",
       "          No Homeless  Total Affected  \n",
       "count     3383.000000    3.383000e+03  \n",
       "mean     25588.707360    9.197008e+04  \n",
       "std      71196.353002    3.256403e+05  \n",
       "min         50.000000    4.000000e+00  \n",
       "25%       1976.500000    3.000000e+03  \n",
       "50%       6293.000000    1.500000e+04  \n",
       "75%      18346.500000    6.000000e+04  \n",
       "max    1000000.000000    7.000867e+06  "
      ]
     },
     "execution_count": 9,
     "metadata": {},
     "output_type": "execute_result"
    }
   ],
   "source": [
    "flood_df.describe()"
   ]
  },
  {
   "cell_type": "code",
   "execution_count": 10,
   "id": "ed6ad529",
   "metadata": {},
   "outputs": [
    {
     "name": "stdout",
     "output_type": "stream",
     "text": [
      "<class 'pandas.core.frame.DataFrame'>\n",
      "RangeIndex: 3383 entries, 0 to 3382\n",
      "Data columns (total 19 columns):\n",
      " #   Column            Non-Null Count  Dtype         \n",
      "---  ------            --------------  -----         \n",
      " 0   Year              3383 non-null   int64         \n",
      " 1   Disaster Subtype  3383 non-null   object        \n",
      " 2   Country           3383 non-null   object        \n",
      " 3   Continent         3383 non-null   object        \n",
      " 4   Location          3383 non-null   object        \n",
      " 5   River Basin       3383 non-null   object        \n",
      " 6   Start Year        3383 non-null   int64         \n",
      " 7   Start Month       3383 non-null   float64       \n",
      " 8   Start Day         3383 non-null   int64         \n",
      " 9   End Year          3383 non-null   int64         \n",
      " 10  End Month         3383 non-null   float64       \n",
      " 11  End Day           3383 non-null   int64         \n",
      " 12  Total Deaths      3383 non-null   int64         \n",
      " 13  No Injured        3383 non-null   int64         \n",
      " 14  No Affected       3383 non-null   int64         \n",
      " 15  No Homeless       3383 non-null   int64         \n",
      " 16  Total Affected    3383 non-null   int64         \n",
      " 17  Start Date        3383 non-null   datetime64[ns]\n",
      " 18  End Date          3383 non-null   datetime64[ns]\n",
      "dtypes: datetime64[ns](2), float64(2), int64(10), object(5)\n",
      "memory usage: 502.3+ KB\n"
     ]
    }
   ],
   "source": [
    "flood_df.info()"
   ]
  },
  {
   "cell_type": "code",
   "execution_count": 11,
   "id": "1558903a",
   "metadata": {},
   "outputs": [],
   "source": [
    "X = flood_df.drop(['Total Deaths'], axis=1) \n",
    "y = flood_df['Total Deaths']"
   ]
  },
  {
   "cell_type": "code",
   "execution_count": 12,
   "id": "e6a16951",
   "metadata": {},
   "outputs": [],
   "source": [
    "X_train, X_test, y_train, y_test = train_test_split(X, y, test_size=0.2, random_state=42)"
   ]
  },
  {
   "cell_type": "code",
   "execution_count": 13,
   "id": "7f4aec85",
   "metadata": {},
   "outputs": [
    {
     "data": {
      "image/png": "[encoded data removed]",
      "text/plain": [
       "<Figure size 640x480 with 1 Axes>"
      ]
     },
     "metadata": {},
     "output_type": "display_data"
    }
   ],
   "source": [
    "plt.bar(flood_df['Year'], flood_df['Total Deaths'])\n",
    "plt.xlabel('Year')\n",
    "plt.ylabel('Total Deaths')\n",
    "plt.title('Total Deaths by Year')\n",
    "plt.show()"
   ]
  },
  {
   "cell_type": "code",
   "execution_count": 14,
   "id": "64d59218",
   "metadata": {},
   "outputs": [],
   "source": [
    "country_deaths = flood_df.groupby('Country')['Total Deaths'].sum().reset_index()"
   ]
  },
  {
   "cell_type": "code",
   "execution_count": 15,
   "id": "1334c492",
   "metadata": {},
   "outputs": [],
   "source": [
    "top_countries = country_deaths.sort_values(by='Total Deaths', ascending=False).head(10)"
   ]
  },
  {
   "cell_type": "code",
   "execution_count": 16,
   "id": "0b154311",
   "metadata": {},
   "outputs": [
    {
     "data": {
      "text/html": [
       "<div>\n",
       "<style scoped>\n",
       "    .dataframe tbody tr th:only-of-type {\n",
       "        vertical-align: middle;\n",
       "    }\n",
       "\n",
       "    .dataframe tbody tr th {\n",
       "        vertical-align: top;\n",
       "    }\n",
       "\n",
       "    .dataframe thead th {\n",
       "        text-align: right;\n",
       "    }\n",
       "</style>\n",
       "<table border=\"1\" class=\"dataframe\">\n",
       "  <thead>\n",
       "    <tr style=\"text-align: right;\">\n",
       "      <th></th>\n",
       "      <th>Country</th>\n",
       "      <th>Total Deaths</th>\n",
       "    </tr>\n",
       "  </thead>\n",
       "  <tbody>\n",
       "    <tr>\n",
       "      <th>42</th>\n",
       "      <td>Somalia</td>\n",
       "      <td>14514</td>\n",
       "    </tr>\n",
       "    <tr>\n",
       "      <th>0</th>\n",
       "      <td>Algeria</td>\n",
       "      <td>11745</td>\n",
       "    </tr>\n",
       "    <tr>\n",
       "      <th>18</th>\n",
       "      <td>Ethiopia</td>\n",
       "      <td>8437</td>\n",
       "    </tr>\n",
       "    <tr>\n",
       "      <th>34</th>\n",
       "      <td>Mozambique</td>\n",
       "      <td>8029</td>\n",
       "    </tr>\n",
       "    <tr>\n",
       "      <th>24</th>\n",
       "      <td>Kenya</td>\n",
       "      <td>6927</td>\n",
       "    </tr>\n",
       "    <tr>\n",
       "      <th>37</th>\n",
       "      <td>Nigeria</td>\n",
       "      <td>6677</td>\n",
       "    </tr>\n",
       "    <tr>\n",
       "      <th>29</th>\n",
       "      <td>Malawi</td>\n",
       "      <td>6324</td>\n",
       "    </tr>\n",
       "    <tr>\n",
       "      <th>45</th>\n",
       "      <td>Sudan (the)</td>\n",
       "      <td>5591</td>\n",
       "    </tr>\n",
       "    <tr>\n",
       "      <th>33</th>\n",
       "      <td>Morocco</td>\n",
       "      <td>5529</td>\n",
       "    </tr>\n",
       "    <tr>\n",
       "      <th>43</th>\n",
       "      <td>South Africa</td>\n",
       "      <td>4723</td>\n",
       "    </tr>\n",
       "  </tbody>\n",
       "</table>\n",
       "</div>"
      ],
      "text/plain": [
       "         Country  Total Deaths\n",
       "42       Somalia         14514\n",
       "0        Algeria         11745\n",
       "18      Ethiopia          8437\n",
       "34    Mozambique          8029\n",
       "24         Kenya          6927\n",
       "37       Nigeria          6677\n",
       "29        Malawi          6324\n",
       "45   Sudan (the)          5591\n",
       "33       Morocco          5529\n",
       "43  South Africa          4723"
      ]
     },
     "execution_count": 16,
     "metadata": {},
     "output_type": "execute_result"
    }
   ],
   "source": [
    "top_countries"
   ]
  },
  {
   "cell_type": "code",
   "execution_count": 17,
   "id": "c85d05a6",
   "metadata": {},
   "outputs": [
    {
     "data": {
      "image/png": "[encoded data removed]",
      "text/plain": [
       "<Figure size 800x600 with 1 Axes>"
      ]
     },
     "metadata": {},
     "output_type": "display_data"
    }
   ],
   "source": [
    "plt.figure(figsize=(8, 6))\n",
    "plt.scatter(flood_df['Total Affected'], flood_df['Total Deaths'], color='r', marker='x')\n",
    "plt.xlabel('Total Affected')\n",
    "plt.ylabel('Total Deaths')\n",
    "plt.title('Total Deaths vs Total Affected')\n",
    "plt.grid(True)\n",
    "plt.show()"
   ]
  },
  {
   "cell_type": "code",
   "execution_count": 18,
   "id": "a13bcccf",
   "metadata": {},
   "outputs": [
    {
     "data": {
      "image/png": "[encoded data removed]",
      "text/plain": [
       "<Figure size 640x480 with 1 Axes>"
      ]
     },
     "metadata": {},
     "output_type": "display_data"
    }
   ],
   "source": [
    "for country in top_countries['Country']:\n",
    "    country_data = flood_df[flood_df['Country'] == country]\n",
    "    plt.scatter(country_data['Total Affected'], country_data['Total Deaths'], label=country, marker='o')\n",
    "\n",
    "plt.xlabel('Total Affected')\n",
    "plt.ylabel('Total Deaths')\n",
    "plt.title('Total Deaths vs Total Affected for Top 10 Countries')\n",
    "plt.legend()\n",
    "plt.grid(True)\n",
    "plt.show()"
   ]
  },
  {
   "cell_type": "code",
   "execution_count": 19,
   "id": "28d8ee97",
   "metadata": {},
   "outputs": [],
   "source": [
    "from sklearn.model_selection import train_test_split\n",
    "from sklearn.metrics import r2_score, mean_absolute_error, mean_squared_error\n",
    "from sklearn.metrics import r2_score, mean_absolute_error, mean_squared_error\n",
    "from sklearn.model_selection import GridSearchCV\n",
    "from sklearn.preprocessing import LabelEncoder, OneHotEncoder\n",
    "from sklearn.tree import DecisionTreeRegressor\n",
    "from sklearn.ensemble import RandomForestRegressor\n",
    "from xgboost import XGBRegressor\n",
    "#from tensorflow import keras\n",
    "#from tensorflow.keras.models import Sequential\n",
    "#from tensorflow.keras.layers import Dense \n",
    "from sklearn.preprocessing import StandardScaler\n",
    "from sklearn.metrics import mean_squared_error\n",
    "from sklearn.metrics import mean_squared_error\n",
    "from sklearn.metrics import accuracy_score\n",
    "from sklearn.metrics import accuracy_score, classification_report\n",
    "from sklearn.preprocessing import LabelEncoder\n",
    "from sklearn.model_selection import train_test_split\n",
    "from datetime import datetime"
   ]
  },
  {
   "cell_type": "code",
   "execution_count": 20,
   "id": "0d107ce0",
   "metadata": {},
   "outputs": [
    {
     "data": {
      "text/html": [
       "<div>\n",
       "<style scoped>\n",
       "    .dataframe tbody tr th:only-of-type {\n",
       "        vertical-align: middle;\n",
       "    }\n",
       "\n",
       "    .dataframe tbody tr th {\n",
       "        vertical-align: top;\n",
       "    }\n",
       "\n",
       "    .dataframe thead th {\n",
       "        text-align: right;\n",
       "    }\n",
       "</style>\n",
       "<table border=\"1\" class=\"dataframe\">\n",
       "  <thead>\n",
       "    <tr style=\"text-align: right;\">\n",
       "      <th></th>\n",
       "      <th>Year</th>\n",
       "      <th>Disaster Subtype</th>\n",
       "      <th>Country</th>\n",
       "      <th>Continent</th>\n",
       "      <th>Location</th>\n",
       "      <th>River Basin</th>\n",
       "      <th>Start Year</th>\n",
       "      <th>Start Month</th>\n",
       "      <th>Start Day</th>\n",
       "      <th>End Year</th>\n",
       "      <th>End Month</th>\n",
       "      <th>End Day</th>\n",
       "      <th>Total Deaths</th>\n",
       "      <th>No Injured</th>\n",
       "      <th>No Affected</th>\n",
       "      <th>No Homeless</th>\n",
       "      <th>Total Affected</th>\n",
       "      <th>Start Date</th>\n",
       "      <th>End Date</th>\n",
       "    </tr>\n",
       "  </thead>\n",
       "  <tbody>\n",
       "    <tr>\n",
       "      <th>0</th>\n",
       "      <td>1927</td>\n",
       "      <td>Flash Flood</td>\n",
       "      <td>Algeria</td>\n",
       "      <td>Africa</td>\n",
       "      <td>Mostaganem</td>\n",
       "      <td>None</td>\n",
       "      <td>1927</td>\n",
       "      <td>11.0</td>\n",
       "      <td>1</td>\n",
       "      <td>1927</td>\n",
       "      <td>11.0</td>\n",
       "      <td>1</td>\n",
       "      <td>3000</td>\n",
       "      <td>12</td>\n",
       "      <td>45400</td>\n",
       "      <td>15900</td>\n",
       "      <td>45400</td>\n",
       "      <td>1927-11-01</td>\n",
       "      <td>1927-11-01</td>\n",
       "    </tr>\n",
       "    <tr>\n",
       "      <th>1</th>\n",
       "      <td>1952</td>\n",
       "      <td>Flash Flood</td>\n",
       "      <td>Algeria</td>\n",
       "      <td>Africa</td>\n",
       "      <td>Not Recorded</td>\n",
       "      <td>None</td>\n",
       "      <td>1952</td>\n",
       "      <td>9.0</td>\n",
       "      <td>2</td>\n",
       "      <td>1952</td>\n",
       "      <td>9.0</td>\n",
       "      <td>2</td>\n",
       "      <td>25</td>\n",
       "      <td>12</td>\n",
       "      <td>45400</td>\n",
       "      <td>15900</td>\n",
       "      <td>45400</td>\n",
       "      <td>1952-09-02</td>\n",
       "      <td>1952-09-02</td>\n",
       "    </tr>\n",
       "    <tr>\n",
       "      <th>2</th>\n",
       "      <td>1954</td>\n",
       "      <td>Riverine flood</td>\n",
       "      <td>Egypt</td>\n",
       "      <td>Africa</td>\n",
       "      <td>Not Recorded</td>\n",
       "      <td>None</td>\n",
       "      <td>1954</td>\n",
       "      <td>3.0</td>\n",
       "      <td>4</td>\n",
       "      <td>1954</td>\n",
       "      <td>3.0</td>\n",
       "      <td>4</td>\n",
       "      <td>36</td>\n",
       "      <td>12</td>\n",
       "      <td>45400</td>\n",
       "      <td>15900</td>\n",
       "      <td>45400</td>\n",
       "      <td>1954-03-04</td>\n",
       "      <td>1954-03-04</td>\n",
       "    </tr>\n",
       "    <tr>\n",
       "      <th>3</th>\n",
       "      <td>1963</td>\n",
       "      <td>Flash Flood</td>\n",
       "      <td>Algeria</td>\n",
       "      <td>Africa</td>\n",
       "      <td>Southern</td>\n",
       "      <td>None</td>\n",
       "      <td>1963</td>\n",
       "      <td>12.0</td>\n",
       "      <td>5</td>\n",
       "      <td>1963</td>\n",
       "      <td>12.0</td>\n",
       "      <td>5</td>\n",
       "      <td>46</td>\n",
       "      <td>12</td>\n",
       "      <td>45400</td>\n",
       "      <td>15900</td>\n",
       "      <td>45400</td>\n",
       "      <td>1963-12-05</td>\n",
       "      <td>1963-12-05</td>\n",
       "    </tr>\n",
       "    <tr>\n",
       "      <th>4</th>\n",
       "      <td>1966</td>\n",
       "      <td>Flash Flood</td>\n",
       "      <td>Algeria</td>\n",
       "      <td>Africa</td>\n",
       "      <td>West El-Asnam</td>\n",
       "      <td>None</td>\n",
       "      <td>1966</td>\n",
       "      <td>10.0</td>\n",
       "      <td>6</td>\n",
       "      <td>1966</td>\n",
       "      <td>10.0</td>\n",
       "      <td>6</td>\n",
       "      <td>57</td>\n",
       "      <td>12</td>\n",
       "      <td>20000</td>\n",
       "      <td>15900</td>\n",
       "      <td>35912</td>\n",
       "      <td>1966-10-06</td>\n",
       "      <td>1966-10-06</td>\n",
       "    </tr>\n",
       "    <tr>\n",
       "      <th>...</th>\n",
       "      <td>...</td>\n",
       "      <td>...</td>\n",
       "      <td>...</td>\n",
       "      <td>...</td>\n",
       "      <td>...</td>\n",
       "      <td>...</td>\n",
       "      <td>...</td>\n",
       "      <td>...</td>\n",
       "      <td>...</td>\n",
       "      <td>...</td>\n",
       "      <td>...</td>\n",
       "      <td>...</td>\n",
       "      <td>...</td>\n",
       "      <td>...</td>\n",
       "      <td>...</td>\n",
       "      <td>...</td>\n",
       "      <td>...</td>\n",
       "      <td>...</td>\n",
       "      <td>...</td>\n",
       "    </tr>\n",
       "    <tr>\n",
       "      <th>3378</th>\n",
       "      <td>2020</td>\n",
       "      <td>Flash Flood</td>\n",
       "      <td>Congo (the Democratic Republic of the)</td>\n",
       "      <td>Africa</td>\n",
       "      <td>Djugu territory (Ituri province)</td>\n",
       "      <td>None</td>\n",
       "      <td>2020</td>\n",
       "      <td>5.0</td>\n",
       "      <td>5</td>\n",
       "      <td>2020</td>\n",
       "      <td>5.0</td>\n",
       "      <td>5</td>\n",
       "      <td>42</td>\n",
       "      <td>69</td>\n",
       "      <td>500</td>\n",
       "      <td>17500</td>\n",
       "      <td>500</td>\n",
       "      <td>2020-05-05</td>\n",
       "      <td>2020-05-05</td>\n",
       "    </tr>\n",
       "    <tr>\n",
       "      <th>3379</th>\n",
       "      <td>2020</td>\n",
       "      <td>Flash Flood</td>\n",
       "      <td>Congo (the Democratic Republic of the)</td>\n",
       "      <td>Africa</td>\n",
       "      <td>Bukavu, Uvira (South Kivu)</td>\n",
       "      <td>Mulongwe river</td>\n",
       "      <td>2020</td>\n",
       "      <td>4.0</td>\n",
       "      <td>16</td>\n",
       "      <td>2020</td>\n",
       "      <td>5.0</td>\n",
       "      <td>18</td>\n",
       "      <td>52</td>\n",
       "      <td>80</td>\n",
       "      <td>92500</td>\n",
       "      <td>17500</td>\n",
       "      <td>92580</td>\n",
       "      <td>2020-04-16</td>\n",
       "      <td>2020-05-18</td>\n",
       "    </tr>\n",
       "    <tr>\n",
       "      <th>3380</th>\n",
       "      <td>2020</td>\n",
       "      <td>Flash Flood</td>\n",
       "      <td>Zambia</td>\n",
       "      <td>Africa</td>\n",
       "      <td>Gwembe, Siavonga, Mambwe and Lumezi districts</td>\n",
       "      <td>None</td>\n",
       "      <td>2020</td>\n",
       "      <td>1.0</td>\n",
       "      <td>18</td>\n",
       "      <td>2020</td>\n",
       "      <td>1.0</td>\n",
       "      <td>22</td>\n",
       "      <td>52</td>\n",
       "      <td>80</td>\n",
       "      <td>1500</td>\n",
       "      <td>17500</td>\n",
       "      <td>1500</td>\n",
       "      <td>2020-01-18</td>\n",
       "      <td>2020-01-22</td>\n",
       "    </tr>\n",
       "    <tr>\n",
       "      <th>3381</th>\n",
       "      <td>2020</td>\n",
       "      <td>Flash Flood</td>\n",
       "      <td>Zambia</td>\n",
       "      <td>Africa</td>\n",
       "      <td>Samfya, Mushindamo, Nakonde districts (Luapula...</td>\n",
       "      <td>None</td>\n",
       "      <td>2020</td>\n",
       "      <td>3.0</td>\n",
       "      <td>20</td>\n",
       "      <td>2020</td>\n",
       "      <td>3.0</td>\n",
       "      <td>26</td>\n",
       "      <td>52</td>\n",
       "      <td>80</td>\n",
       "      <td>700000</td>\n",
       "      <td>17500</td>\n",
       "      <td>700000</td>\n",
       "      <td>2020-03-20</td>\n",
       "      <td>2020-03-26</td>\n",
       "    </tr>\n",
       "    <tr>\n",
       "      <th>3382</th>\n",
       "      <td>2020</td>\n",
       "      <td>Flash Flood</td>\n",
       "      <td>South Sudan</td>\n",
       "      <td>Africa</td>\n",
       "      <td>Bor South, Twic East, Duk, Ayod Countie (Jongl...</td>\n",
       "      <td>White Nile, Akobo River</td>\n",
       "      <td>2020</td>\n",
       "      <td>7.0</td>\n",
       "      <td>20</td>\n",
       "      <td>2020</td>\n",
       "      <td>12.0</td>\n",
       "      <td>26</td>\n",
       "      <td>52</td>\n",
       "      <td>80</td>\n",
       "      <td>1042000</td>\n",
       "      <td>17500</td>\n",
       "      <td>1042000</td>\n",
       "      <td>2020-07-20</td>\n",
       "      <td>2020-12-26</td>\n",
       "    </tr>\n",
       "  </tbody>\n",
       "</table>\n",
       "<p>3383 rows × 19 columns</p>\n",
       "</div>"
      ],
      "text/plain": [
       "      Year Disaster Subtype                                 Country Continent  \\\n",
       "0     1927      Flash Flood                                 Algeria    Africa   \n",
       "1     1952      Flash Flood                                 Algeria    Africa   \n",
       "2     1954   Riverine flood                                   Egypt    Africa   \n",
       "3     1963      Flash Flood                                 Algeria    Africa   \n",
       "4     1966      Flash Flood                                 Algeria    Africa   \n",
       "...    ...              ...                                     ...       ...   \n",
       "3378  2020      Flash Flood  Congo (the Democratic Republic of the)    Africa   \n",
       "3379  2020      Flash Flood  Congo (the Democratic Republic of the)    Africa   \n",
       "3380  2020      Flash Flood                                  Zambia    Africa   \n",
       "3381  2020      Flash Flood                                  Zambia    Africa   \n",
       "3382  2020      Flash Flood                             South Sudan    Africa   \n",
       "\n",
       "                                               Location  \\\n",
       "0                                            Mostaganem   \n",
       "1                                          Not Recorded   \n",
       "2                                          Not Recorded   \n",
       "3                                              Southern   \n",
       "4                                         West El-Asnam   \n",
       "...                                                 ...   \n",
       "3378                   Djugu territory (Ituri province)   \n",
       "3379                         Bukavu, Uvira (South Kivu)   \n",
       "3380      Gwembe, Siavonga, Mambwe and Lumezi districts   \n",
       "3381  Samfya, Mushindamo, Nakonde districts (Luapula...   \n",
       "3382  Bor South, Twic East, Duk, Ayod Countie (Jongl...   \n",
       "\n",
       "                  River Basin  Start Year  Start Month  Start Day  End Year  \\\n",
       "0                        None        1927         11.0          1      1927   \n",
       "1                        None        1952          9.0          2      1952   \n",
       "2                        None        1954          3.0          4      1954   \n",
       "3                        None        1963         12.0          5      1963   \n",
       "4                        None        1966         10.0          6      1966   \n",
       "...                       ...         ...          ...        ...       ...   \n",
       "3378                     None        2020          5.0          5      2020   \n",
       "3379           Mulongwe river        2020          4.0         16      2020   \n",
       "3380                     None        2020          1.0         18      2020   \n",
       "3381                     None        2020          3.0         20      2020   \n",
       "3382  White Nile, Akobo River        2020          7.0         20      2020   \n",
       "\n",
       "      End Month  End Day  Total Deaths  No Injured  No Affected  No Homeless  \\\n",
       "0          11.0        1          3000          12        45400        15900   \n",
       "1           9.0        2            25          12        45400        15900   \n",
       "2           3.0        4            36          12        45400        15900   \n",
       "3          12.0        5            46          12        45400        15900   \n",
       "4          10.0        6            57          12        20000        15900   \n",
       "...         ...      ...           ...         ...          ...          ...   \n",
       "3378        5.0        5            42          69          500        17500   \n",
       "3379        5.0       18            52          80        92500        17500   \n",
       "3380        1.0       22            52          80         1500        17500   \n",
       "3381        3.0       26            52          80       700000        17500   \n",
       "3382       12.0       26            52          80      1042000        17500   \n",
       "\n",
       "      Total Affected Start Date   End Date  \n",
       "0              45400 1927-11-01 1927-11-01  \n",
       "1              45400 1952-09-02 1952-09-02  \n",
       "2              45400 1954-03-04 1954-03-04  \n",
       "3              45400 1963-12-05 1963-12-05  \n",
       "4              35912 1966-10-06 1966-10-06  \n",
       "...              ...        ...        ...  \n",
       "3378             500 2020-05-05 2020-05-05  \n",
       "3379           92580 2020-04-16 2020-05-18  \n",
       "3380            1500 2020-01-18 2020-01-22  \n",
       "3381          700000 2020-03-20 2020-03-26  \n",
       "3382         1042000 2020-07-20 2020-12-26  \n",
       "\n",
       "[3383 rows x 19 columns]"
      ]
     },
     "execution_count": 20,
     "metadata": {},
     "output_type": "execute_result"
    }
   ],
   "source": [
    " flood_df"
   ]
  },
  {
   "cell_type": "code",
   "execution_count": 21,
   "id": "513ede70",
   "metadata": {},
   "outputs": [],
   "source": [
    "label_encoder = LabelEncoder()\n",
    "flood_df['Disaster Subtype'] = label_encoder.fit_transform(flood_df['Disaster Subtype'])\n",
    "flood_df['Country'] = label_encoder.fit_transform(flood_df['Country'])\n",
    "flood_df['Continent'] = label_encoder.fit_transform(flood_df['Continent'])\n",
    "flood_df['Location'] = label_encoder.fit_transform(flood_df['Location'])\n",
    "flood_df['River Basin'] = label_encoder.fit_transform(flood_df['River Basin'])"
   ]
  },
  {
   "cell_type": "code",
   "execution_count": 22,
   "id": "eb333e4b",
   "metadata": {},
   "outputs": [],
   "source": [
    "flood_df['Start Year'] = flood_df['Start Date'].dt.year\n",
    "flood_df['Start Month'] = flood_df['Start Date'].dt.month\n",
    "flood_df['Start Day'] = flood_df['Start Date'].dt.day\n",
    "flood_df['End Year'] = flood_df['End Date'].dt.year\n",
    "flood_df['End Month'] = flood_df['End Date'].dt.month\n",
    "flood_df['End Day'] = flood_df['End Date'].dt.day"
   ]
  },
  {
   "cell_type": "code",
   "execution_count": 23,
   "id": "d7cd79f0",
   "metadata": {},
   "outputs": [],
   "source": [
    "flood_df['Season'] = flood_df['Start Date'].dt.month.map({12: 'Dry', 1: 'Dry', 2: 'Dry', 3: 'Wet', 4: 'Wet', 5: 'Wet', 6: 'Dry', 7: 'Dry', 8: 'Dry', 9: 'Wet', 10: 'Wet', 11: 'Wet'})"
   ]
  },
  {
   "cell_type": "code",
   "execution_count": 24,
   "id": "b5a32e84",
   "metadata": {},
   "outputs": [],
   "source": [
    "flood_df['Flood Duration'] = (flood_df['End Date'] - flood_df['Start Date']).dt.days"
   ]
  },
  {
   "cell_type": "code",
   "execution_count": 25,
   "id": "58628f64",
   "metadata": {},
   "outputs": [],
   "source": [
    "flood_df['Total Affected Normalized'] = (flood_df['Total Affected'] - flood_df['Total Affected'].min()) / (flood_df['Total Affected'].max() - flood_df['Total Affected'].min())"
   ]
  },
  {
   "cell_type": "code",
   "execution_count": 26,
   "id": "95686d4b",
   "metadata": {},
   "outputs": [],
   "source": [
    "#encoding"
   ]
  },
  {
   "cell_type": "code",
   "execution_count": 27,
   "id": "da1d6cc9",
   "metadata": {},
   "outputs": [],
   "source": [
    "flood_data = flood_df.copy()"
   ]
  },
  {
   "cell_type": "code",
   "execution_count": 28,
   "id": "fb504fea",
   "metadata": {},
   "outputs": [],
   "source": [
    "#onehot_encoder = OneHotEncoder(sparse=False, drop='first')  # 'drop' removes one level to avoid multicollinearity\n",
    "#encoded_columns = pd.DataFrame(onehot_encoder.fit_transform(flood_df[['Disaster Subtype', 'Country', 'Continent', 'Location', 'River Basin']]))"
   ]
  },
  {
   "cell_type": "code",
   "execution_count": 29,
   "id": "7b0e5df6",
   "metadata": {},
   "outputs": [],
   "source": [
    "#categorical_features = ['Country', 'Continent', 'Location', 'River Basin']\n",
    "#onehot_encoder = OneHotEncoder(sparse=False, drop='first')\n",
    "#encoded_columns = pd.DataFrame(onehot_encoder.fit_transform(flood_data[categorical_features]))\n",
    "#flood_data_encoded = pd.concat([flood_data, encoded_columns], axis=1)\n",
    "#flood_data_encoded = flood_data_encoded.drop(categorical_features, axis=1)"
   ]
  },
  {
   "cell_type": "code",
   "execution_count": 30,
   "id": "d3f5818a",
   "metadata": {},
   "outputs": [],
   "source": [
    "from sklearn.preprocessing import StandardScaler\n",
    "\n",
    "numerical_features = ['Total Deaths', 'No Injured', 'No Affected', 'No Homeless', 'Total Affected', 'Flood Duration']\n",
    "scaler = StandardScaler()\n",
    "flood_data[numerical_features] = scaler.fit_transform(flood_data[numerical_features])"
   ]
  },
  {
   "cell_type": "code",
   "execution_count": 31,
   "id": "48c18233",
   "metadata": {},
   "outputs": [
    {
     "data": {
      "text/plain": [
       "Index(['Year', 'Disaster Subtype', 'Country', 'Continent', 'Location',\n",
       "       'River Basin', 'Start Year', 'Start Month', 'Start Day', 'End Year',\n",
       "       'End Month', 'End Day', 'Total Deaths', 'No Injured', 'No Affected',\n",
       "       'No Homeless', 'Total Affected', 'Start Date', 'End Date', 'Season',\n",
       "       'Flood Duration', 'Total Affected Normalized'],\n",
       "      dtype='object')"
      ]
     },
     "execution_count": 31,
     "metadata": {},
     "output_type": "execute_result"
    }
   ],
   "source": [
    "flood_data.columns"
   ]
  },
  {
   "cell_type": "code",
   "execution_count": 32,
   "id": "17f2e526",
   "metadata": {},
   "outputs": [
    {
     "data": {
      "text/html": [
       "<div>\n",
       "<style scoped>\n",
       "    .dataframe tbody tr th:only-of-type {\n",
       "        vertical-align: middle;\n",
       "    }\n",
       "\n",
       "    .dataframe tbody tr th {\n",
       "        vertical-align: top;\n",
       "    }\n",
       "\n",
       "    .dataframe thead th {\n",
       "        text-align: right;\n",
       "    }\n",
       "</style>\n",
       "<table border=\"1\" class=\"dataframe\">\n",
       "  <thead>\n",
       "    <tr style=\"text-align: right;\">\n",
       "      <th></th>\n",
       "      <th>Year</th>\n",
       "      <th>Disaster Subtype</th>\n",
       "      <th>Country</th>\n",
       "      <th>Continent</th>\n",
       "      <th>Location</th>\n",
       "      <th>River Basin</th>\n",
       "      <th>Start Year</th>\n",
       "      <th>Start Month</th>\n",
       "      <th>Start Day</th>\n",
       "      <th>End Year</th>\n",
       "      <th>...</th>\n",
       "      <th>Total Deaths</th>\n",
       "      <th>No Injured</th>\n",
       "      <th>No Affected</th>\n",
       "      <th>No Homeless</th>\n",
       "      <th>Total Affected</th>\n",
       "      <th>Start Date</th>\n",
       "      <th>End Date</th>\n",
       "      <th>Season</th>\n",
       "      <th>Flood Duration</th>\n",
       "      <th>Total Affected Normalized</th>\n",
       "    </tr>\n",
       "  </thead>\n",
       "  <tbody>\n",
       "    <tr>\n",
       "      <th>0</th>\n",
       "      <td>1927</td>\n",
       "      <td>1</td>\n",
       "      <td>0</td>\n",
       "      <td>0</td>\n",
       "      <td>780</td>\n",
       "      <td>151</td>\n",
       "      <td>1927</td>\n",
       "      <td>11</td>\n",
       "      <td>1</td>\n",
       "      <td>1927</td>\n",
       "      <td>...</td>\n",
       "      <td>23.518253</td>\n",
       "      <td>-0.19385</td>\n",
       "      <td>-0.173824</td>\n",
       "      <td>-0.136104</td>\n",
       "      <td>-0.143032</td>\n",
       "      <td>1927-11-01</td>\n",
       "      <td>1927-11-01</td>\n",
       "      <td>Wet</td>\n",
       "      <td>-0.506977</td>\n",
       "      <td>0.006484</td>\n",
       "    </tr>\n",
       "    <tr>\n",
       "      <th>1</th>\n",
       "      <td>1952</td>\n",
       "      <td>1</td>\n",
       "      <td>0</td>\n",
       "      <td>0</td>\n",
       "      <td>884</td>\n",
       "      <td>151</td>\n",
       "      <td>1952</td>\n",
       "      <td>9</td>\n",
       "      <td>2</td>\n",
       "      <td>1952</td>\n",
       "      <td>...</td>\n",
       "      <td>-0.103326</td>\n",
       "      <td>-0.19385</td>\n",
       "      <td>-0.173824</td>\n",
       "      <td>-0.136104</td>\n",
       "      <td>-0.143032</td>\n",
       "      <td>1952-09-02</td>\n",
       "      <td>1952-09-02</td>\n",
       "      <td>Wet</td>\n",
       "      <td>-0.506977</td>\n",
       "      <td>0.006484</td>\n",
       "    </tr>\n",
       "    <tr>\n",
       "      <th>2</th>\n",
       "      <td>1954</td>\n",
       "      <td>3</td>\n",
       "      <td>16</td>\n",
       "      <td>0</td>\n",
       "      <td>884</td>\n",
       "      <td>151</td>\n",
       "      <td>1954</td>\n",
       "      <td>3</td>\n",
       "      <td>4</td>\n",
       "      <td>1954</td>\n",
       "      <td>...</td>\n",
       "      <td>-0.015986</td>\n",
       "      <td>-0.19385</td>\n",
       "      <td>-0.173824</td>\n",
       "      <td>-0.136104</td>\n",
       "      <td>-0.143032</td>\n",
       "      <td>1954-03-04</td>\n",
       "      <td>1954-03-04</td>\n",
       "      <td>Wet</td>\n",
       "      <td>-0.506977</td>\n",
       "      <td>0.006484</td>\n",
       "    </tr>\n",
       "    <tr>\n",
       "      <th>3</th>\n",
       "      <td>1963</td>\n",
       "      <td>1</td>\n",
       "      <td>0</td>\n",
       "      <td>0</td>\n",
       "      <td>1034</td>\n",
       "      <td>151</td>\n",
       "      <td>1963</td>\n",
       "      <td>12</td>\n",
       "      <td>5</td>\n",
       "      <td>1963</td>\n",
       "      <td>...</td>\n",
       "      <td>0.063415</td>\n",
       "      <td>-0.19385</td>\n",
       "      <td>-0.173824</td>\n",
       "      <td>-0.136104</td>\n",
       "      <td>-0.143032</td>\n",
       "      <td>1963-12-05</td>\n",
       "      <td>1963-12-05</td>\n",
       "      <td>Dry</td>\n",
       "      <td>-0.506977</td>\n",
       "      <td>0.006484</td>\n",
       "    </tr>\n",
       "    <tr>\n",
       "      <th>4</th>\n",
       "      <td>1966</td>\n",
       "      <td>1</td>\n",
       "      <td>0</td>\n",
       "      <td>0</td>\n",
       "      <td>1127</td>\n",
       "      <td>151</td>\n",
       "      <td>1966</td>\n",
       "      <td>10</td>\n",
       "      <td>6</td>\n",
       "      <td>1966</td>\n",
       "      <td>...</td>\n",
       "      <td>0.150755</td>\n",
       "      <td>-0.19385</td>\n",
       "      <td>-0.252452</td>\n",
       "      <td>-0.136104</td>\n",
       "      <td>-0.172173</td>\n",
       "      <td>1966-10-06</td>\n",
       "      <td>1966-10-06</td>\n",
       "      <td>Wet</td>\n",
       "      <td>-0.506977</td>\n",
       "      <td>0.005129</td>\n",
       "    </tr>\n",
       "  </tbody>\n",
       "</table>\n",
       "<p>5 rows × 22 columns</p>\n",
       "</div>"
      ],
      "text/plain": [
       "   Year  Disaster Subtype  Country  Continent  Location  River Basin  \\\n",
       "0  1927                 1        0          0       780          151   \n",
       "1  1952                 1        0          0       884          151   \n",
       "2  1954                 3       16          0       884          151   \n",
       "3  1963                 1        0          0      1034          151   \n",
       "4  1966                 1        0          0      1127          151   \n",
       "\n",
       "   Start Year  Start Month  Start Day  End Year  ...  Total Deaths  \\\n",
       "0        1927           11          1      1927  ...     23.518253   \n",
       "1        1952            9          2      1952  ...     -0.103326   \n",
       "2        1954            3          4      1954  ...     -0.015986   \n",
       "3        1963           12          5      1963  ...      0.063415   \n",
       "4        1966           10          6      1966  ...      0.150755   \n",
       "\n",
       "   No Injured  No Affected  No Homeless  Total Affected  Start Date  \\\n",
       "0    -0.19385    -0.173824    -0.136104       -0.143032  1927-11-01   \n",
       "1    -0.19385    -0.173824    -0.136104       -0.143032  1952-09-02   \n",
       "2    -0.19385    -0.173824    -0.136104       -0.143032  1954-03-04   \n",
       "3    -0.19385    -0.173824    -0.136104       -0.143032  1963-12-05   \n",
       "4    -0.19385    -0.252452    -0.136104       -0.172173  1966-10-06   \n",
       "\n",
       "    End Date Season Flood Duration Total Affected Normalized  \n",
       "0 1927-11-01    Wet      -0.506977                  0.006484  \n",
       "1 1952-09-02    Wet      -0.506977                  0.006484  \n",
       "2 1954-03-04    Wet      -0.506977                  0.006484  \n",
       "3 1963-12-05    Dry      -0.506977                  0.006484  \n",
       "4 1966-10-06    Wet      -0.506977                  0.005129  \n",
       "\n",
       "[5 rows x 22 columns]"
      ]
     },
     "execution_count": 32,
     "metadata": {},
     "output_type": "execute_result"
    }
   ],
   "source": [
    "flood_data.head()"
   ]
  },
  {
   "cell_type": "code",
   "execution_count": 33,
   "id": "e2f94ff9",
   "metadata": {},
   "outputs": [],
   "source": [
    "X = flood_data[['Year', 'Country', 'Continent', 'Location', 'River Basin', 'Flood Duration']]\n",
    "y = flood_data['Total Affected']"
   ]
  },
  {
   "cell_type": "code",
   "execution_count": 34,
   "id": "e08a5263",
   "metadata": {},
   "outputs": [],
   "source": [
    "X_train, X_test, y_train, y_test = train_test_split(X, y, test_size=0.2, random_state=101)"
   ]
  },
  {
   "cell_type": "code",
   "execution_count": 35,
   "id": "cdccb98d",
   "metadata": {},
   "outputs": [
    {
     "data": {
      "text/plain": [
       "DecisionTreeRegressor()"
      ]
     },
     "execution_count": 35,
     "metadata": {},
     "output_type": "execute_result"
    }
   ],
   "source": [
    "Dt = DecisionTreeRegressor()\n",
    "Dt.fit(X_train, y_train)"
   ]
  },
  {
   "cell_type": "code",
   "execution_count": 36,
   "id": "3d34cb8b",
   "metadata": {},
   "outputs": [
    {
     "name": "stdout",
     "output_type": "stream",
     "text": [
      "Decision Tree Mean Squared Error: 0.20603323351797748\n"
     ]
    }
   ],
   "source": [
    "predictions_decision_tree = Dt.predict(X_test)\n",
    "mse_decision_tree = mean_squared_error(y_test, predictions_decision_tree)\n",
    "print(f\"Decision Tree Mean Squared Error: {mse_decision_tree}\")"
   ]
  },
  {
   "cell_type": "code",
   "execution_count": 37,
   "id": "2b00f34e",
   "metadata": {},
   "outputs": [
    {
     "data": {
      "text/plain": [
       "RandomForestRegressor()"
      ]
     },
     "execution_count": 37,
     "metadata": {},
     "output_type": "execute_result"
    }
   ],
   "source": [
    "Rf = RandomForestRegressor()\n",
    "Rf.fit(X_train, y_train)"
   ]
  },
  {
   "cell_type": "code",
   "execution_count": 38,
   "id": "a4281462",
   "metadata": {},
   "outputs": [
    {
     "name": "stdout",
     "output_type": "stream",
     "text": [
      "Mean Squared Error: 0.08574531354573846\n"
     ]
    }
   ],
   "source": [
    "predictions = Rf.predict(X_test)\n",
    "mse = mean_squared_error(y_test, predictions)\n",
    "print(f\"Mean Squared Error: {mse}\")"
   ]
  },
  {
   "cell_type": "code",
   "execution_count": 39,
   "id": "99a15240",
   "metadata": {},
   "outputs": [
    {
     "data": {
      "text/plain": [
       "XGBRegressor(base_score=None, booster=None, callbacks=None,\n",
       "             colsample_bylevel=None, colsample_bynode=None,\n",
       "             colsample_bytree=None, device=None, early_stopping_rounds=None,\n",
       "             enable_categorical=False, eval_metric=None, feature_types=None,\n",
       "             gamma=None, grow_policy=None, importance_type=None,\n",
       "             interaction_constraints=None, learning_rate=None, max_bin=None,\n",
       "             max_cat_threshold=None, max_cat_to_onehot=None,\n",
       "             max_delta_step=None, max_depth=None, max_leaves=None,\n",
       "             min_child_weight=None, missing=nan, monotone_constraints=None,\n",
       "             multi_strategy=None, n_estimators=None, n_jobs=None,\n",
       "             num_parallel_tree=None, random_state=None, ...)"
      ]
     },
     "execution_count": 39,
     "metadata": {},
     "output_type": "execute_result"
    }
   ],
   "source": [
    "model_xgboost = XGBRegressor()\n",
    "model_xgboost.fit(X_train, y_train)"
   ]
  },
  {
   "cell_type": "code",
   "execution_count": 40,
   "id": "2e79639d",
   "metadata": {},
   "outputs": [
    {
     "name": "stdout",
     "output_type": "stream",
     "text": [
      "XGBoost Mean Squared Error: 0.025169439798689817\n"
     ]
    }
   ],
   "source": [
    "predictions_xgboost = model_xgboost.predict(X_test)\n",
    "mse_xgboost = mean_squared_error(y_test, predictions_xgboost)\n",
    "print(f\"XGBoost Mean Squared Error: {mse_xgboost}\")"
   ]
  },
  {
   "cell_type": "code",
   "execution_count": 41,
   "id": "2d85e54a",
   "metadata": {},
   "outputs": [],
   "source": [
    "def plot_actual_vs_predicted(actual, predicted, model_name):\n",
    "    plt.figure(figsize=(8, 6))\n",
    "    sns.scatterplot(x=actual, y=predicted)\n",
    "    plt.title(f\"{model_name} - Actual vs. Predicted\")\n",
    "    plt.xlabel(\"Actual Values\")\n",
    "    plt.ylabel(\"Predicted Values\")\n",
    "    plt.show()"
   ]
  },
  {
   "cell_type": "code",
   "execution_count": 42,
   "id": "510cda91",
   "metadata": {},
   "outputs": [
    {
     "data": {
      "image/png": "[encoded data removed]",
      "text/plain": [
       "<Figure size 800x600 with 1 Axes>"
      ]
     },
     "metadata": {},
     "output_type": "display_data"
    }
   ],
   "source": [
    "#DT\n",
    "plot_actual_vs_predicted(y_test, predictions_decision_tree, \"Decision Tree Regressor\")"
   ]
  },
  {
   "cell_type": "code",
   "execution_count": 43,
   "id": "382927d6",
   "metadata": {},
   "outputs": [
    {
     "data": {
      "image/png": "[encoded data removed]",
      "text/plain": [
       "<Figure size 800x600 with 1 Axes>"
      ]
     },
     "metadata": {},
     "output_type": "display_data"
    }
   ],
   "source": [
    "#RF\n",
    "plot_actual_vs_predicted(y_test, predictions, \"Random Forest Regressor\")\n"
   ]
  },
  {
   "cell_type": "code",
   "execution_count": 44,
   "id": "7e6def96",
   "metadata": {},
   "outputs": [
    {
     "data": {
      "image/png": "[encoded data removed]",
      "text/plain": [
       "<Figure size 800x600 with 1 Axes>"
      ]
     },
     "metadata": {},
     "output_type": "display_data"
    }
   ],
   "source": [
    "plot_actual_vs_predicted(y_test, predictions_xgboost, \"XGBoost Regressor\")\n"
   ]
  },
  {
   "cell_type": "code",
   "execution_count": 45,
   "id": "e362d1a4",
   "metadata": {},
   "outputs": [],
   "source": [
    "# Function for hyperparameter tuning using GridSearchCV\n",
    "def tune_hyperparameters(model, param_grid, X_train, y_train):\n",
    "    grid_search = GridSearchCV(model, param_grid, scoring='neg_mean_squared_error', cv=5)\n",
    "    grid_search.fit(X_train, y_train)\n",
    "    best_model = grid_search.best_estimator_\n",
    "    return best_model"
   ]
  },
  {
   "cell_type": "code",
   "execution_count": 46,
   "id": "3f7a4e67",
   "metadata": {},
   "outputs": [],
   "source": [
    "dt_param_grid = {\n",
    "    'max_depth': [None, 10, 20, 30],\n",
    "    'min_samples_split': [2, 5, 10],\n",
    "    'min_samples_leaf': [1, 2, 4]\n",
    "}"
   ]
  },
  {
   "cell_type": "code",
   "execution_count": 47,
   "id": "c60cd2d0",
   "metadata": {},
   "outputs": [],
   "source": [
    "rf_param_grid = {\n",
    "    'n_estimators': [50, 100, 200],\n",
    "    'max_depth': [None, 10, 20, 30],\n",
    "    'min_samples_split': [2, 5, 10],\n",
    "    'min_samples_leaf': [1, 2, 4]\n",
    "}"
   ]
  },
  {
   "cell_type": "code",
   "execution_count": 48,
   "id": "80cb97d4",
   "metadata": {},
   "outputs": [],
   "source": [
    "xgb_param_grid = {\n",
    "    'n_estimators': [50, 100, 200],\n",
    "    'max_depth': [3, 5, 7],\n",
    "    'learning_rate': [0.01, 0.1, 0.2]\n",
    "}"
   ]
  },
  {
   "cell_type": "code",
   "execution_count": 49,
   "id": "3b9bbc36",
   "metadata": {},
   "outputs": [],
   "source": [
    "best_dt_model = tune_hyperparameters(DecisionTreeRegressor(), dt_param_grid, X_train, y_train)"
   ]
  },
  {
   "cell_type": "code",
   "execution_count": 50,
   "id": "e5ffc534",
   "metadata": {},
   "outputs": [],
   "source": [
    "best_rf_model = tune_hyperparameters(RandomForestRegressor(), rf_param_grid, X_train, y_train)"
   ]
  },
  {
   "cell_type": "code",
   "execution_count": 51,
   "id": "42401a18",
   "metadata": {},
   "outputs": [],
   "source": [
    "best_xgb_model = tune_hyperparameters(XGBRegressor(), xgb_param_grid, X_train, y_train)"
   ]
  },
  {
   "cell_type": "code",
   "execution_count": 52,
   "id": "a74b94bc",
   "metadata": {},
   "outputs": [],
   "source": [
    "# checking for best models\n",
    "best_dt_predictions = best_dt_model.predict(X_test)\n",
    "best_rf_predictions = best_rf_model.predict(X_test)\n",
    "best_xgb_predictions = best_xgb_model.predict(X_test)"
   ]
  },
  {
   "cell_type": "code",
   "execution_count": 56,
   "id": "30c6411e",
   "metadata": {},
   "outputs": [],
   "source": [
    "def evaluate_model(model, X_test, y_test):\n",
    "    predictions = model.predict(X_test)\n",
    "r2 = r2_score(y_test, predictions)\n",
    "mae = mean_absolute_error(y_test, predictions)\n",
    "rmse = np.sqrt(mean_squared_error(y_test, predictions))"
   ]
  },
  {
   "cell_type": "code",
   "execution_count": 57,
   "id": "7e385c29",
   "metadata": {},
   "outputs": [
    {
     "name": "stdout",
     "output_type": "stream",
     "text": [
      "R-squared: 0.9388\n",
      "Mean Absolute Error: 0.1101\n",
      "Root Mean Squared Error: 0.2928\n"
     ]
    }
   ],
   "source": [
    "print(f'R-squared: {r2:.4f}')\n",
    "print(f'Mean Absolute Error: {mae:.4f}')\n",
    "print(f'Root Mean Squared Error: {rmse:.4f}')"
   ]
  },
  {
   "cell_type": "code",
   "execution_count": 61,
   "id": "0bda0cbb",
   "metadata": {},
   "outputs": [
    {
     "name": "stdout",
     "output_type": "stream",
     "text": [
      "Decision Tree Regressor:\n"
     ]
    }
   ],
   "source": [
    "print(\"Decision Tree Regressor:\")\n",
    "evaluate_model(best_dt_model, X_test, y_test)\n",
    "#print(\"\\n\")"
   ]
  },
  {
   "cell_type": "code",
   "execution_count": 62,
   "id": "88544f69",
   "metadata": {},
   "outputs": [],
   "source": [
    "evaluate_model(best_dt_model, X_test, y_test)"
   ]
  },
  {
   "cell_type": "code",
   "execution_count": 59,
   "id": "11499fab",
   "metadata": {},
   "outputs": [
    {
     "name": "stdout",
     "output_type": "stream",
     "text": [
      "\n",
      "\n"
     ]
    }
   ],
   "source": [
    "evaluate_model(best_rf_model, X_test, y_test)\n",
    "#print(\"\\n\")"
   ]
  },
  {
   "cell_type": "code",
   "execution_count": 60,
   "id": "cf15f707",
   "metadata": {},
   "outputs": [
    {
     "name": "stdout",
     "output_type": "stream",
     "text": [
      "XGBoost Regressor:\n"
     ]
    }
   ],
   "source": [
    "# Evaluate XGBoost Regressor\n",
    "print(\"XGBoost Regressor:\")\n",
    "evaluate_model(best_xgb_model, X_test, y_test)"
   ]
  },
  {
   "cell_type": "code",
   "execution_count": null,
   "id": "78aba77f",
   "metadata": {},
   "outputs": [],
   "source": []
  },
  {
   "cell_type": "code",
   "execution_count": null,
   "id": "caac224c",
   "metadata": {},
   "outputs": [],
   "source": [
    "from sklearn.externals import joblib\n",
    "\n",
    "# Assuming 'model_decision_tree' is your trained Decision Tree model\n",
    "joblib.dump(model_decision_tree, 'decision_tree_model.joblib')"
   ]
  }
 ],
 "metadata": {
  "kernelspec": {
   "display_name": "Python 3 (ipykernel)",
   "language": "python",
   "name": "python3"
  },
  "language_info": {
   "codemirror_mode": {
    "name": "ipython",
    "version": 3
   },
   "file_extension": ".py",
   "mimetype": "text/x-python",
   "name": "python",
   "nbconvert_exporter": "python",
   "pygments_lexer": "ipython3",
   "version": "3.9.13"
  }
 },
 "nbformat": 4,
 "nbformat_minor": 5
}
